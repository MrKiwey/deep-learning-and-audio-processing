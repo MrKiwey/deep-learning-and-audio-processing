{
 "cells": [
  {
   "cell_type": "markdown",
   "metadata": {},
   "source": [
    "### Introduction\n",
    "\n",
    "Systems able to recognize sounds directly from audio recordings are widely applicable. In this project,\n",
    "you’ll attempt to create an audio tagging system by extracting audio clip image representations and then\n",
    "using computer vision-based classification models. You can consider constructing your system using a\n",
    "relatively large-scale competition data set and then evaluate it on its ability to recognize and distinguish more specialized sounds on locally generated recordings.\n",
    "\n",
    "### Goals\n",
    "\n",
    "1. Investigate and construct models for automatic audio tagging of noisy recordings.\n",
    "2. Adapt this to smaller data sets of audio recordings, either by using a setup motivated by your\n",
    "above findings or by transfer learning.\n",
    "3. Construct an audio tagging application.\n",
    "\n",
    "### Methods and materials\n",
    "\n",
    "To achieve Goal 1 of the project, you can, for example, use the FSDKaggle2018 used in the Freesound\n",
    "General-Purpose Audio Tagging Challenge on Kaggle. There are 41 categories of audio clips, and the\n",
    "goal is to classify each clip. For the second objective, you can look for a data set on your own or\n",
    "construct one yourself.\n",
    "\n",
    "As part of the project, you should investigate ways to do data augmentation for audio.\n",
    "You’ll make use of a variety of Python audio libraries, e.g., librosa. You should also look into fastxtend, a library built on top of fastai. To construct the application, you’re free to use any solution you know or want to investigate. A natural starting point is the deployment solutions used in the fastai course.\n",
    "\n",
    "Consider not converting audio to images but instead setting up an audio classification framework that\n",
    "operates on audio representations of the data.\n",
    "\n",
    "\n",
    "## References\n",
    "\n",
    "McFee, Brian, Colin Raffel, Dawen Liang, Daniel PW Ellis, Matt McVicar, Eric Battenberg, and Oriol Nieto. “librosa: Audio and music signal analysis in python.” In Proceedings of the 14th python in science conference, pp. 18-25. 2015.\n",
    "\n",
    "Benjamin Warner. \"fastxtend\" 2023. Accessed 22.02.2024 from: https://fastxtend.benjaminwarner.dev/ "
   ]
  },
  {
   "cell_type": "markdown",
   "metadata": {},
   "source": [
    "# Part 1: Setting up the environment"
   ]
  },
  {
   "cell_type": "markdown",
   "metadata": {},
   "source": [
    "### Installing libraries\n",
    "\n",
    "First, we need to install the necessary libraries to perform machine learning on the audio samples.\n",
    "\n",
    "It is a good idea to create a virtual environment specifically for this project before installing the packages.\n",
    "\n",
    "Now open a terminal in your desired editor, and run the following commands:\n",
    "\n",
    "Create a venv using:\n",
    "\n",
    "```\n",
    "python -m venv \"your-venv-name\"\n",
    "```\n",
    "\n",
    "Now you can install the libraries in this venv only:\n",
    "\n",
    "``` \n",
    "pip install librosa\n",
    "```\n",
    "\n",
    "Install PyTorch by following this link and selecting your details: https://pytorch.org/get-started/locally/\n",
    "Run the given command in the Terminal.\n",
    "\n",
    "Now you can proceed with the \n",
    "\n",
    "``` \n",
    "conda create -n fastxtend python=3.11 \"pytorch>=2.1\" torchvision torchaudio \\\n",
    "pytorch-cuda=12.3 fastai nbdev pkg-config libjpeg-turbo opencv tqdm psutil \\\n",
    "terminaltables numpy \"numba>=0.57\" librosa timm kornia rich typer wandb \"transformers>=4.34\" \"tokenizers>=0.14\" \"datasets>=2.14\" ipykernel \\\n",
    "ipywidgets \"matplotlib<3.8\" -c pytorch -c nvidia -c fastai -c huggingface -c conda-forge\n",
    "```\n",
    "\n",
    "``` \n",
    "conda activate fastxtend\n",
    "```\n",
    "\n",
    "``` \n",
    "pip install \"fastxtend[all]\"\n",
    "```"
   ]
  },
  {
   "cell_type": "code",
   "execution_count": 1,
   "metadata": {},
   "outputs": [
    {
     "name": "stdout",
     "output_type": "stream",
     "text": [
      "tensor([[0.7460, 0.1664, 0.2565],\n",
      "        [0.4836, 0.8227, 0.6346],\n",
      "        [0.7704, 0.6892, 0.7098],\n",
      "        [0.8201, 0.7667, 0.0265],\n",
      "        [0.9147, 0.5007, 0.9854]])\n"
     ]
    }
   ],
   "source": [
    "import torch\n",
    "x = torch.rand(5, 3)\n",
    "print(x)"
   ]
  },
  {
   "cell_type": "code",
   "execution_count": 4,
   "metadata": {},
   "outputs": [
    {
     "data": {
      "text/plain": [
       "False"
      ]
     },
     "execution_count": 4,
     "metadata": {},
     "output_type": "execute_result"
    }
   ],
   "source": [
    "torch.cuda.is_available()"
   ]
  },
  {
   "cell_type": "code",
   "execution_count": null,
   "metadata": {},
   "outputs": [],
   "source": []
  }
 ],
 "metadata": {
  "kernelspec": {
   "display_name": "venv",
   "language": "python",
   "name": "python3"
  },
  "language_info": {
   "codemirror_mode": {
    "name": "ipython",
    "version": 3
   },
   "file_extension": ".py",
   "mimetype": "text/x-python",
   "name": "python",
   "nbconvert_exporter": "python",
   "pygments_lexer": "ipython3",
   "version": "3.11.5"
  }
 },
 "nbformat": 4,
 "nbformat_minor": 2
}
